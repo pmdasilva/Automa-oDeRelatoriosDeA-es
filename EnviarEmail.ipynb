{
 "cells": [
  {
   "cell_type": "code",
   "execution_count": 2,
   "metadata": {},
   "outputs": [],
   "source": [
    "import yfinance\n",
    "from pandas import DataFrame\n",
    "import re\n",
    "import matplotlib.pyplot as plt\n",
    "import pyautogui \n",
    "import webbrowser\n",
    "import pyperclip\n",
    "import time\n"
   ]
  },
  {
   "cell_type": "code",
   "execution_count": 11,
   "metadata": {},
   "outputs": [
    {
     "data": {
      "text/plain": [
       "<__main__.EnviarEmailAoUsuario at 0x295623cb170>"
      ]
     },
     "execution_count": 11,
     "metadata": {},
     "output_type": "execute_result"
    }
   ],
   "source": [
    "class EnviarEmailAoUsuario():\n",
    "    def __init__(self):\n",
    "        self.email = 'ariewl.marcelino9904@gmail.com'\n",
    "        self.assunto = 'Analises do projeto 2020'\n",
    "        self.colar_mensagem = f\"\"\"\n",
    "                        Prezado Gestor,\n",
    "                        Segue a analise das ações solicitadas:\n",
    "                        Cotação minima: R$XXX Cotação maxima: R$XXXX\n",
    "                        Valor médio: R$XXXX\n",
    "                        Atenciosamente,\n",
    "                        Paulo Silva\n",
    "                        \"\"\"\n",
    "        self.abrir_web = webbrowser.open('www.gmail.com')\n",
    "        self.clicar_em_escrever = pyautogui.click(x=2069, y=157)\n",
    "        self.clicar_no_campo_destinatario = pyautogui.click(x=2495, y=356)\n",
    "        self.copiar_email_destinatario = pyperclip.copy(self.email)\n",
    "        self.colar = pyautogui.hotkey('ctrl','v')\n",
    "        self.tab = pyautogui.hotkey('TAB')\n",
    "        self.copiar_assunto = pyperclip.copy(self.assunto)\n",
    "        self.copiar_mensagem = pyperclip.copy(self.colar_mensagem)\n",
    "        self.clique_no_botão_enviar = pyautogui.click(x=2484, y=738)\n",
    "\n",
    "    def abrir_navegador(self):\n",
    "        #Abrir navegador:\n",
    "        self.abrir_web\n",
    "        time.sleep(3)\n",
    "        print('abriu navegador')\n",
    "    \n",
    "        # #Espere 3s e clique no botão escrever:\n",
    "        pyautogui.PAUSE = 3\n",
    "        self.clicar_em_escrever\n",
    "        print('clicou em escrever mensagem !')\n",
    "\n",
    "    def colar_o_email_do_destinatario(self):\n",
    "        #Colar o e-mail do destinatario\n",
    "        self.clicar_no_campo_destinatario\n",
    "        time.sleep(3)\n",
    "        #para_destinatario\n",
    "        self.copiar_email_destinatario\n",
    "        self.colar\n",
    "        print('adicionou e-mail do destinatario !')\n",
    "        time.sleep(2)\n",
    "        self.tab\n",
    "    \n",
    "    def assunto(self):\n",
    "        self.copiar_assunto\n",
    "        self.colar\n",
    "        print('adicionou assunto !')\n",
    "        time.sleep(2)\n",
    "        self.tab\n",
    "    \n",
    "    def mensagem(self):\n",
    "        # #Mensagem\n",
    "        self.copiar_mensagem\n",
    "        self.colar\n",
    "        print('adicionou mensagem !')\n",
    "        time.sleep(3)\n",
    "    \n",
    "    def enviar(self):\n",
    "        #Clicar no enviar\n",
    "        self.clique_no_botão_enviar\n",
    "        print('Mensagem enviada!')\n",
    "\n",
    "    \n",
    "\n"
   ]
  },
  {
   "cell_type": "code",
   "execution_count": 9,
   "metadata": {},
   "outputs": [
    {
     "data": {
      "text/plain": [
       "Point(x=2069, y=157)"
      ]
     },
     "execution_count": 9,
     "metadata": {},
     "output_type": "execute_result"
    }
   ],
   "source": [
    "time.sleep(3)\n",
    "pyautogui.position()"
   ]
  }
 ],
 "metadata": {
  "kernelspec": {
   "display_name": "Python 3",
   "language": "python",
   "name": "python3"
  },
  "language_info": {
   "codemirror_mode": {
    "name": "ipython",
    "version": 3
   },
   "file_extension": ".py",
   "mimetype": "text/x-python",
   "name": "python",
   "nbconvert_exporter": "python",
   "pygments_lexer": "ipython3",
   "version": "3.12.4"
  }
 },
 "nbformat": 4,
 "nbformat_minor": 2
}
